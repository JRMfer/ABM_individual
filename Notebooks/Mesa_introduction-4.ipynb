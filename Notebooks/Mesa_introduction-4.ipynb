{
 "cells": [
  {
   "cell_type": "markdown",
   "metadata": {
    "deletable": false,
    "editable": false,
    "nbgrader": {
     "checksum": "2a962de7bcd02f81afba383207fa8e55",
     "grade": false,
     "grade_id": "cell-520b7e772181517f",
     "locked": true,
     "schema_version": 1,
     "solution": false
    }
   },
   "source": [
    "# Agent Based Modeling - Mesa\n",
    "\n",
    "\"[Mesa](https://mesa.readthedocs.io/en/master/) is an agent-based modeling framework in Python. Mesa allows users to quickly create agent-based models using built-in core components (such as spatial grids and agent schedulers) or customized implementations, visualize them using a browser-based interface, and analyze their results using Python’s data analysis tools.\"\n",
    "\n",
    "_This notebook is based on and uses parts of texts from the Mesa docs._\n",
    "\n",
    "### Discretised Lotka Volterra\n",
    "In this notebook we aim to familiarise you with Mesa and its Object Oriented Programming approach to agent-based models. This will be done through implementation of a simplified preditor-prey model (discretised Lotka Volterra). \n",
    "\n",
    "If you are not yet comfortable with Object Oriented Programming or need a refresher, please visit [this page](https://python.swaroopch.com/oop.html).\n",
    "\n",
    "We will create a version of the \"sheep-wolf\" model wherein wolves and sheep wander randomly around the landscape. To allow the population to grow, each wolf or sheep has a fixed probability of reproducing at each timestep. In this simplified version, sheep do not have to eat, and only die when eaten by a wolf. Wolves, however, have a probability of dying. This produces interesting population dynamics, but creates a model that is ultimately unstable.\n",
    "\n",
    "To do this we need the following:\n",
    "- **Agents:** the predators and preys\n",
    "- **Environment:** an area in which the predators and prey can move around and interact\n",
    "- **Model:** the controller that links the environment and the agents\n",
    "\n",
    "We've already implemented the model and the environment is already implemented by Mesa, but it is up to you to implement the Agents!\n",
    "\n",
    "First: We install MESA and test if we can import it"
   ]
  },
  {
   "cell_type": "code",
   "execution_count": 1,
   "metadata": {
    "deletable": false,
    "editable": false,
    "nbgrader": {
     "checksum": "dd8556dcfc6b153f869ba4431c5ea534",
     "grade": false,
     "grade_id": "cell-9901288bc38efb00",
     "locked": true,
     "schema_version": 1,
     "solution": false
    }
   },
   "outputs": [
    {
     "name": "stdout",
     "output_type": "stream",
     "text": [
      "Everything A-Okay!\n"
     ]
    }
   ],
   "source": [
    "from IPython.display import clear_output\n",
    "!pip install -e git+https://github.com/projectmesa/mesa#egg=mesa\n",
    "import mesa\n",
    "!pip install ipynb\n",
    "import ipynb\n",
    "clear_output(wait=True)\n",
    "print(\"Everything A-Okay!\")"
   ]
  },
  {
   "cell_type": "markdown",
   "metadata": {
    "deletable": false,
    "editable": false,
    "nbgrader": {
     "checksum": "bca35b7dfd68ed7325de48ca4db7df13",
     "grade": false,
     "grade_id": "cell-995423520ad86893",
     "locked": true,
     "schema_version": 1,
     "solution": false
    }
   },
   "source": [
    "### Testing\n",
    "Since testing each of the methods that you will create seperately might be difficult, we provide you with a very minimal model that will be used during the testing phase. Later in this notebook we will introduce you to the model that has been implemented in `model.py`."
   ]
  },
  {
   "cell_type": "code",
   "execution_count": 2,
   "metadata": {
    "deletable": false,
    "editable": false,
    "nbgrader": {
     "checksum": "7eb7b2e53f7df328aeaa05e654bfc915",
     "grade": false,
     "grade_id": "cell-a762fbb609f2033f",
     "locked": true,
     "schema_version": 1,
     "solution": false
    }
   },
   "outputs": [],
   "source": [
    "from mesa import Model\n",
    "from mesa.space import MultiGrid\n",
    "\n",
    "class TestModel(Model):\n",
    "    def __init__(self, width, height):\n",
    "        self.height = width\n",
    "        self.width = height\n",
    "        \n",
    "        self.grid = MultiGrid(self.width, self.height, torus=True)\n",
    "        \n",
    "        self.n_agents = 0\n",
    "        self.agents = []\n",
    "\n",
    "    \n",
    "    def new_agent(self, agent_type, pos):\n",
    "        '''\n",
    "        Method that enables us to add agents of a given type.\n",
    "        '''\n",
    "        self.n_agents += 1\n",
    "        \n",
    "        # Create a new agent of the given type\n",
    "        new_agent = agent_type(self.n_agents, self, pos)\n",
    "        \n",
    "        # Place the agent on the grid\n",
    "        self.grid.place_agent(new_agent, pos)\n",
    "        \n",
    "        # And add the agent to the model so we can track it\n",
    "        self.agents.append(new_agent)\n",
    "        \n",
    "    def remove_agent(self, agent):\n",
    "        '''\n",
    "        Method that enables us to remove passed agents.\n",
    "        '''\n",
    "        self.n_agents -= 1\n",
    "        \n",
    "        # Remove agent from grid\n",
    "        self.grid.remove_agent(agent)\n",
    "        \n",
    "        # Remove agent from model\n",
    "        self.agents.remove(agent)\n",
    "        \n",
    "    def step(self):\n",
    "        '''\n",
    "        Method that steps every agent. \n",
    "        \n",
    "        Prevents applying step on new agents by creating a local list.\n",
    "        '''\n",
    "        for agent in list(self.agents):\n",
    "            agent.step()"
   ]
  },
  {
   "cell_type": "markdown",
   "metadata": {
    "deletable": false,
    "editable": false,
    "nbgrader": {
     "checksum": "4c330bd796dd29c046d959bd0eb10aed",
     "grade": false,
     "grade_id": "cell-93554d67bd9ce2a8",
     "locked": true,
     "schema_version": 1,
     "solution": false
    }
   },
   "source": [
    "### Agents - Random walker\n",
    "As both the sheep and the wolves will walk around randomly, we will first implement a `RandomWalker` class. We can then re-use (inherit) this class when making our `Wolf` and `Sheep` classes. Below you can find the framework for the class, but you will have to implement the `random_move()` method. This method should get the neighbouring cells (Moore's neighbourhood), select one, and move the agent to this cell.\n",
    "\n",
    "Find the following functions through the provided link and find out which inputs they need:\n",
    " - [MultiGrid](https://github.com/projectmesa/mesa/blob/master/mesa/space.py).get_neighborhood()\n",
    " - [MultiGrid](https://github.com/projectmesa/mesa/blob/master/mesa/space.py).move_agent()\n",
    " \n",
    "Keep in mind that the `model` that is passed when the RandomWalker is initialised contains the grid. It is accessable through `self.model.grid` in the `random_move` function. "
   ]
  },
  {
   "cell_type": "code",
   "execution_count": 3,
   "metadata": {
    "deletable": false,
    "nbgrader": {
     "checksum": "705e3e0531a81c95f100f4d39d7de275",
     "grade": false,
     "grade_id": "cell-1bff8a60c7a9567e",
     "locked": false,
     "schema_version": 1,
     "solution": true
    }
   },
   "outputs": [],
   "source": [
    "from mesa import Agent\n",
    "import random\n",
    "\n",
    "class RandomWalker(Agent):\n",
    "    def __init__(self, unique_id, model, pos):\n",
    "        super().__init__(unique_id, model)\n",
    "\n",
    "        self.pos = pos\n",
    "\n",
    "    def random_move(self):\n",
    "        '''\n",
    "        This method should get the neighbouring cells (Moore's neighbourhood), select one, and move the agent to this cell.\n",
    "        '''\n",
    "        neighbourhood = self.model.grid.get_neighborhood(self.pos, True)\n",
    "        new_pos = self.random.choice(neighbourhood)\n",
    "        self.model.grid.move_agent(self, new_pos)"
   ]
  },
  {
   "cell_type": "code",
   "execution_count": 4,
   "metadata": {
    "deletable": false,
    "editable": false,
    "nbgrader": {
     "checksum": "6e049d26bd9887cd44135ac0628cdb98",
     "grade": true,
     "grade_id": "cell-8b1f4b5f5975c03b",
     "locked": true,
     "points": 1,
     "schema_version": 1,
     "solution": false
    }
   },
   "outputs": [],
   "source": [
    "tester = TestModel(10, 10)\n",
    "\n",
    "# Create a RandomWalker, so that we can call the random_move() method\n",
    "start_position = (5, 5)\n",
    "tester.new_agent(RandomWalker, start_position)\n",
    "\n",
    "# Create a reference, so that we can properly test\n",
    "walker = tester.agents[0]\n",
    "\n",
    "# Check movement\n",
    "walker.random_move()\n",
    "assert walker.pos != (5, 5), \"The walker has not moved!\"\n",
    "assert abs(walker.pos[0] - 5) <= 1 or abs(walker.pos[1] - 5) <= 1, \"The walker has moved more than 1 square\""
   ]
  },
  {
   "cell_type": "markdown",
   "metadata": {
    "deletable": false,
    "editable": false,
    "nbgrader": {
     "checksum": "db18798788284003479cae503fb9ddb5",
     "grade": false,
     "grade_id": "cell-01160d202fabdc5a",
     "locked": true,
     "schema_version": 1,
     "solution": false
    }
   },
   "source": [
    "### Agents - Sheep\n",
    "As described above, to allow the population to grow, each wolf or sheep has a fixed probability of reproducing at each timestep. Sheep do not have to eat, and only die when eaten by a wolf. We have again provided you with the framework for this class, but you will have to implement the `step()` method. This method should move the Sheep using the `random_move()` method implemented earlier, then conditionally reproduce. You can use the 'new_agent()' method implemented in model to create new sheep.\n",
    "\n",
    "Attributes/methods you might need:\n",
    " - self.random_move()\n",
    " - self.model.new_agent()\n",
    " - self.model.sheep_reproduction_chance"
   ]
  },
  {
   "cell_type": "code",
   "execution_count": 5,
   "metadata": {
    "deletable": false,
    "nbgrader": {
     "checksum": "452bb0f0cd5f10ed4c1095ffdfa72cd5",
     "grade": false,
     "grade_id": "cell-bdcef78c12f1fbe2",
     "locked": false,
     "schema_version": 1,
     "solution": true
    }
   },
   "outputs": [],
   "source": [
    "class Sheep(RandomWalker):\n",
    "    def __init__(self, unique_id, model, pos):\n",
    "        super().__init__(unique_id, model, pos)\n",
    "\n",
    "    def step(self):\n",
    "        '''\n",
    "        This method should move the Sheep using the `random_move()` method implemented earlier, then conditionally reproduce.\n",
    "        '''\n",
    "        self.random_move()\n",
    "        if random.random() < self.model.sheep_reproduction_chance:\n",
    "            self.model.new_agent(Sheep, self.pos)"
   ]
  },
  {
   "cell_type": "code",
   "execution_count": 6,
   "metadata": {
    "deletable": false,
    "editable": false,
    "nbgrader": {
     "checksum": "1123709e6a1c1db6416546bc85241a86",
     "grade": true,
     "grade_id": "cell-a38971467ab6ea79",
     "locked": true,
     "points": 1,
     "schema_version": 1,
     "solution": false
    }
   },
   "outputs": [],
   "source": [
    "tester = TestModel(10, 10)\n",
    "tester.sheep_reproduction_chance = 1\n",
    "\n",
    "# Create a Sheep \n",
    "start_position = (5, 5)\n",
    "tester.new_agent(Sheep, start_position)\n",
    "\n",
    "# Create a reference, so that we can properly test\n",
    "sheep = tester.agents[0]\n",
    "\n",
    "# Check movement\n",
    "tester.step()\n",
    "assert sheep.pos != (5, 5), \"The sheep has not moved!\"\n",
    "assert abs(sheep.pos[0] - 5) <= 1 or abs(sheep.pos[1] - 5) <= 1, \"The sheep has moved more than 1 square!\"\n",
    "\n",
    "# Check fertility\n",
    "assert tester.n_agents == 2, \"Your sheep is infertile!\"\n",
    "tester.sheep_reproduction_chance = 0\n",
    "tester.step()\n",
    "assert tester.n_agents == 2, \"Your sheep are too fertile!\"\n",
    "\n",
    "# Check if the random_move function was used\n",
    "old_pos = sheep.pos\n",
    "sheep.random_move = lambda: False\n",
    "tester.step()\n",
    "assert old_pos == sheep.pos, \"You didn't use the random_move() function!\""
   ]
  },
  {
   "cell_type": "markdown",
   "metadata": {
    "deletable": false,
    "editable": false,
    "nbgrader": {
     "checksum": "6692b355cc093c23e82e791119d6f42c",
     "grade": false,
     "grade_id": "cell-3dbd192f8addb916",
     "locked": true,
     "schema_version": 1,
     "solution": false
    }
   },
   "source": [
    "### Agents - Wolf\n",
    "Each wolf has a fixed probability of dying at each timestep. When wolves meet a sheep they will eat it and then reproduce. We have again provided you with the framework for this class, but you will have to implement the step() method. This method should move the wolf, then check for sheep on its location, eat the sheep if it is there and reproduce, and finally conditionally die.\n",
    "\n",
    "\n",
    "Attributes/methods you might need:\n",
    " - self.random_move()\n",
    " - self.model.new_agent()\n",
    " - self.model.remove_agent()\n",
    " - self.model.wolf_reproduction_chance\n",
    " - [MultiGrid](https://github.com/projectmesa/mesa/blob/master/mesa/space.py).get_neighbors()\n"
   ]
  },
  {
   "cell_type": "code",
   "execution_count": 7,
   "metadata": {
    "deletable": false,
    "nbgrader": {
     "checksum": "3fbe6c210a5d39b6b09d422ba879ad5f",
     "grade": false,
     "grade_id": "cell-e6b7ab29c84f80f5",
     "locked": false,
     "schema_version": 1,
     "solution": true
    }
   },
   "outputs": [],
   "source": [
    "class Wolf(RandomWalker):\n",
    "    def __init__(self, unique_id, model, pos):\n",
    "        super().__init__(unique_id, model, pos)\n",
    "        self.total_eaten = 0\n",
    "        self.age = 0\n",
    "\n",
    "    def step(self):\n",
    "        '''\n",
    "        This method should move the wolf, then check for sheep on its location, \n",
    "        eat the sheep if it is there and reproduce, and finally conditionally die.\n",
    "        '''\n",
    "        self.age += 1\n",
    "        self.random_move()\n",
    "        animals = self.model.grid.get_neighbors(self.pos, True, include_center=True, radius=0)\n",
    "        for animal in animals:\n",
    "            if isinstance(animal, Sheep):\n",
    "                self.model.remove_agent(animal)\n",
    "                self.model.new_agent(Wolf, self.pos)\n",
    "                self.total_eaten += 1\n",
    "        \n",
    "        if random.random() < self.model.wolf_death_chance:\n",
    "            self.model.remove_agent(self)             "
   ]
  },
  {
   "cell_type": "code",
   "execution_count": 8,
   "metadata": {
    "deletable": false,
    "editable": false,
    "nbgrader": {
     "checksum": "d14e386c464f5221a9e279a0225cf4c5",
     "grade": true,
     "grade_id": "cell-7fa56d562b5c523c",
     "locked": true,
     "points": 2,
     "schema_version": 1,
     "solution": false
    }
   },
   "outputs": [],
   "source": [
    "tester = TestModel(10, 10)\n",
    "tester.wolf_death_chance = 0\n",
    "\n",
    "# Create a Wolf \n",
    "start_position = (5, 5)\n",
    "tester.new_agent(Wolf, start_position)\n",
    "\n",
    "# Create a reference, so that we can properly test\n",
    "wolf = tester.agents[0]\n",
    "\n",
    "# Check movement\n",
    "tester.step()\n",
    "assert wolf.pos != (5, 5), \"The wolf has not moved!\"\n",
    "assert abs(wolf.pos[0] - 5) <= 1 or abs(wolf.pos[1] - 5) <= 1, \"The wolf has moved more than 1 square!\"\n",
    "\n",
    "# Check death rates\n",
    "assert tester.n_agents == 1, \"Your wolf died!\"\n",
    "tester.wolf_death_chance = 1\n",
    "tester.step()\n",
    "assert tester.n_agents == 0, \"Your wolf is invincible!\"\n",
    "\n",
    "# Create another model so that we can be sure the wolf eats the sheep\n",
    "tester = TestModel(1, 1)\n",
    "tester.wolf_death_chance = 0\n",
    "tester.sheep_reproduction_chance = 0\n",
    "\n",
    "# Create a Sheep and a Wolf\n",
    "start_position = (0, 0)\n",
    "tester.new_agent(Sheep, start_position)\n",
    "tester.new_agent(Wolf, start_position)\n",
    "\n",
    "# Check if the sheep was eaten\n",
    "tester.step()\n",
    "assert type(tester.agents[0]) is not Sheep, \"The sheep has not been eaten!\""
   ]
  },
  {
   "cell_type": "markdown",
   "metadata": {
    "deletable": false,
    "editable": false,
    "nbgrader": {
     "checksum": "f6cbd39841b40b8ffbf3d83301b66dde",
     "grade": false,
     "grade_id": "cell-7daf425c56b81c02",
     "locked": true,
     "schema_version": 1,
     "solution": false
    }
   },
   "source": [
    "### The model\n",
    "Now that you have implemented the agents, we will introduce you to the model. The model links the agents to the environment and provides methods that make interactions with the model easy. It uses the `DataCollector` class, which we will explain later, and the `RandomActivation` class. The `RandomActivation` class is a scheduler that iterates through each of the agents randomly and uses its `step()` method. We have seperated the Sheep scheduler from the Wolf scheduler to prevent what is called a [\"race-condition\"](https://en.wikipedia.org/wiki/Race_condition) wherein a Sheep gets eaten before it is its turn to `step()`. \n",
    "\n",
    "At the time of writing of this notebook, there are 4 different schedulers available in Mesa:\n",
    "- `BaseScheduler`: This is a scheduler that activates agents one at a time, in the order they were added.\n",
    "- `RandomActivation`: Activates each agent once per step, in random order, with the order reshuffled every step.\n",
    "- `SimultaneousActivation`: Activates all agents simultaneously.\n",
    "- `StagedActivation`: Allows agent activation to be divided into several stages instead of a single `step` method.\n",
    "\n",
    "Check out [the docs](https://mesa.readthedocs.io/en/master/apis/time.html) to learn more."
   ]
  },
  {
   "cell_type": "code",
   "execution_count": 9,
   "metadata": {
    "deletable": false,
    "editable": false,
    "nbgrader": {
     "checksum": "58eae17276d48a3360c9b57ac0fde878",
     "grade": false,
     "grade_id": "cell-080df0e3734f5e9e",
     "locked": true,
     "schema_version": 1,
     "solution": false
    }
   },
   "outputs": [],
   "source": [
    "import random\n",
    "\n",
    "from mesa import Model\n",
    "from mesa.space import MultiGrid\n",
    "from mesa.datacollection import DataCollector\n",
    "from mesa.time import RandomActivation\n",
    "\n",
    "class WolfSheep(Model):\n",
    "    '''\n",
    "    Wolf-Sheep Predation Model\n",
    "    '''\n",
    "    \n",
    "    def __init__(self, height=20, width=20,\n",
    "                 initial_sheep=100, initial_wolves=30,\n",
    "                 sheep_reproduction_chance=0.05, wolf_death_chance=0.05):\n",
    "\n",
    "        super().__init__()\n",
    "\n",
    "        self.height = height\n",
    "        self.width = width\n",
    "        self.initial_sheep = initial_sheep\n",
    "        self.initial_wolves = initial_wolves\n",
    "        self.sheep_reproduction_chance = sheep_reproduction_chance\n",
    "        self.wolf_death_chance = wolf_death_chance\n",
    "\n",
    "        # Add a schedule for sheep and wolves seperately to prevent race-conditions\n",
    "        self.schedule_Sheep = RandomActivation(self)\n",
    "        self.schedule_Wolf = RandomActivation(self)\n",
    "\n",
    "        self.grid = MultiGrid(self.width, self.height, torus=True)\n",
    "        self.datacollector = DataCollector(\n",
    "             {\"Sheep\": lambda m: self.schedule_Sheep.get_agent_count(),\n",
    "              \"Wolves\": lambda m: self.schedule_Wolf.get_agent_count()})\n",
    "\n",
    "        # Create sheep and wolves\n",
    "        self.init_population(Sheep, self.initial_sheep)\n",
    "        self.init_population(Wolf, self.initial_wolves)\n",
    "\n",
    "        # This is required for the datacollector to work\n",
    "        self.running = True\n",
    "        self.datacollector.collect(self)\n",
    "\n",
    "    def init_population(self, agent_type, n):\n",
    "        '''\n",
    "        Method that provides an easy way of making a bunch of agents at once.\n",
    "        '''\n",
    "        for i in range(n):\n",
    "            x = random.randrange(self.width)\n",
    "            y = random.randrange(self.height)\n",
    "\n",
    "            self.new_agent(agent_type, (x, y))\n",
    "\n",
    "    def new_agent(self, agent_type, pos):\n",
    "        '''\n",
    "        Method that creates a new agent, and adds it to the correct scheduler.\n",
    "        '''\n",
    "        agent = agent_type(self.next_id(), self, pos)\n",
    "\n",
    "        self.grid.place_agent(agent, pos)\n",
    "        getattr(self, f'schedule_{agent_type.__name__}').add(agent)\n",
    "\n",
    "    def remove_agent(self, agent):\n",
    "        '''\n",
    "        Method that removes an agent from the grid and the correct scheduler.\n",
    "        '''\n",
    "        self.grid.remove_agent(agent)\n",
    "        getattr(self, f'schedule_{type(agent).__name__}').remove(agent)\n",
    "\n",
    "    def step(self):\n",
    "        '''\n",
    "        Method that calls the step method for each of the sheep, and then for each of the wolves.\n",
    "        '''\n",
    "        self.schedule_Sheep.step()\n",
    "        self.schedule_Wolf.step()\n",
    "\n",
    "        # Save the statistics\n",
    "        self.datacollector.collect(self)\n",
    "\n",
    "    def run_model(self, step_count=200):\n",
    "        '''\n",
    "        Method that runs the model for a specific amount of steps.\n",
    "        '''\n",
    "        for i in range(step_count):\n",
    "            self.step()\n"
   ]
  },
  {
   "cell_type": "markdown",
   "metadata": {
    "deletable": false,
    "editable": false,
    "nbgrader": {
     "checksum": "ecaad32249685e66048d4d7709697a98",
     "grade": false,
     "grade_id": "cell-55327128631eeeec",
     "locked": true,
     "schema_version": 1,
     "solution": false
    }
   },
   "source": [
    "You might have noticed that we are using a so called `MultiGrid`. Again, [Mesa provides us with multiple different types of environments](https://mesa.readthedocs.io/en/master/apis/space.html) for the agents to exist in:\n",
    "- `ContinuousSpace`: Each agent can have an arbitrary position.\n",
    "- `SingleGrid`: Grid where each cell contains at most one object.\n",
    "- `MultiGrid`: Grid where each cell can contain more than one object.\n",
    "- `HexGrid`: extends the grid to handle hexagonal neighbors.\n",
    "- `NetworkGrid`: Network where each node contains zero or more agents.\n",
    "\n",
    "We are using `MultiGrid` as we want multiple agents to be able to be in one cell.\n",
    "\n",
    "Running the model is now as simple as:"
   ]
  },
  {
   "cell_type": "code",
   "execution_count": 10,
   "metadata": {
    "deletable": false,
    "editable": false,
    "nbgrader": {
     "checksum": "9dd27024c17efe45580b44431c5131a8",
     "grade": false,
     "grade_id": "cell-aea508ce36b68c4d",
     "locked": true,
     "schema_version": 1,
     "solution": false
    }
   },
   "outputs": [],
   "source": [
    "model = WolfSheep()\n",
    "model.run_model()"
   ]
  },
  {
   "cell_type": "markdown",
   "metadata": {
    "deletable": false,
    "editable": false,
    "nbgrader": {
     "checksum": "309e289929196455c4431c993081f6a2",
     "grade": false,
     "grade_id": "cell-c107971ac7ed69f9",
     "locked": true,
     "schema_version": 1,
     "solution": false
    }
   },
   "source": [
    "### Data collector\n",
    "So far, we have tested the model by checking variables manually. This is not very efficient, and requires us to make complicated loops if we need more than just the end results. Mesa provides a class which can handle the data collection and storage. This class was already added to the model above; `DataCollector`. From the Mesa docs:\n",
    "\n",
    "\"The data collector stores three categories of data: model-level variables, agent-level variables, and tables (which are a catch-all for everything else). Model- and agent-level variables are added to the data collector along with either the name of an attribute that the agents or models have, or a function for collecting some data. Model-level collection functions take a model object as an input, while agent-level collection functions take an agent object as an input. Both then return a value computed from the model or each agent at their current state. When the data collector’s collect method is called, with a model object as its argument, it applies each model-level collection function to the model, and stores the results in a dictionary, associating the current value with the current step of the model. Similarly, the method applies each agent-level collection function to each agent currently in the schedule, associating the resulting value with the step of the model, and the agent’s unique_id.\"\n",
    "\n",
    "Simply said, the `DataCollector` adds data to its dictionary when you call `collect()` method. We have added two functions that keep track of the amount of Sheep and Wolf to the `DataCollector` and call collect after each `step()` that the model makes.\n",
    "\n",
    "Run the following piece of code to see what happens."
   ]
  },
  {
   "cell_type": "code",
   "execution_count": 11,
   "metadata": {
    "deletable": false,
    "editable": false,
    "nbgrader": {
     "checksum": "0f3f0991153595db10242fe1a2103249",
     "grade": false,
     "grade_id": "cell-827801dbb93bcd97",
     "locked": true,
     "schema_version": 1,
     "solution": false
    }
   },
   "outputs": [
    {
     "data": {
      "text/plain": [
       "<matplotlib.axes._subplots.AxesSubplot at 0x18f56ec5ba8>"
      ]
     },
     "execution_count": 11,
     "metadata": {},
     "output_type": "execute_result"
    },
    {
     "data": {
      "image/png": "[encoded data removed]",
      "text/plain": [
       "<Figure size 432x288 with 1 Axes>"
      ]
     },
     "metadata": {
      "needs_background": "light"
     },
     "output_type": "display_data"
    }
   ],
   "source": [
    "%matplotlib inline\n",
    "    \n",
    "model = WolfSheep()\n",
    "model.run_model()\n",
    "\n",
    "data = model.datacollector.get_model_vars_dataframe()\n",
    "data.plot()"
   ]
  },
  {
   "cell_type": "markdown",
   "metadata": {
    "deletable": false,
    "editable": false,
    "nbgrader": {
     "checksum": "bb116d4152d8179234b36b7f25359807",
     "grade": false,
     "grade_id": "cell-a57d99ecfb3a6106",
     "locked": true,
     "schema_version": 1,
     "solution": false
    }
   },
   "source": [
    "See if you can make a similar plot which displays the average number of sheep a wolf has eaten over its lifetime for each `step()` in the model. You will need to change the `step()` method of the wolf so that it counts every sheep it has eaten, and you will need to change the `DataCollector` to log this data. You can then use `model.datacollector.get_agent_vars_dataframe()` to get your data.\n",
    "\n",
    "Take a look at the [Mesa Read The Docs](https://mesa.readthedocs.io/en/master/tutorials/intro_tutorial.html#collecting-data) for more details."
   ]
  },
  {
   "cell_type": "code",
   "execution_count": 12,
   "metadata": {},
   "outputs": [
    {
     "data": {
      "text/plain": [
       "<matplotlib.axes._subplots.AxesSubplot at 0x18f59091860>"
      ]
     },
     "execution_count": 12,
     "metadata": {},
     "output_type": "execute_result"
    },
    {
     "data": {
      "image/png": "[encoded data removed]",
      "text/plain": [
       "<Figure size 432x288 with 1 Axes>"
      ]
     },
     "metadata": {
      "needs_background": "light"
     },
     "output_type": "display_data"
    },
    {
     "data": {
      "image/png": "[encoded data removed]",
      "text/plain": [
       "<Figure size 432x288 with 1 Axes>"
      ]
     },
     "metadata": {
      "needs_background": "light"
     },
     "output_type": "display_data"
    }
   ],
   "source": [
    "%matplotlib inline\n",
    "import random\n",
    "\n",
    "from mesa import Model\n",
    "from mesa.space import MultiGrid\n",
    "from mesa.datacollection import DataCollector\n",
    "from mesa.time import RandomActivation\n",
    "\n",
    "def mean_wolf(model):\n",
    "    \"\"\"\n",
    "    Determines mean sheep eaten by wolves over their lifetime.\n",
    "    \"\"\"\n",
    "    \n",
    "    sheap_eaten_wolf = sum([agent.total_eaten for agent in model.schedule_Wolf.agents])\n",
    "    lifetime_wolves = sum([agent.age for agent in model.schedule_Wolf.agents])\n",
    "    \n",
    "    try:\n",
    "        return sheap_eaten_wolf / lifetime_wolves\n",
    "    except ZeroDivisionError:\n",
    "        return 0\n",
    "\n",
    "class WolfSheep(Model):\n",
    "    '''\n",
    "    Wolf-Sheep Predation Model\n",
    "    '''\n",
    "    \n",
    "    def __init__(self, height=20, width=20,\n",
    "                 initial_sheep=100, initial_wolves=30,\n",
    "                 sheep_reproduction_chance=0.05, wolf_death_chance=0.05):\n",
    "\n",
    "        super().__init__()\n",
    "\n",
    "        self.height = height\n",
    "        self.width = width\n",
    "        self.initial_sheep = initial_sheep\n",
    "        self.initial_wolves = initial_wolves\n",
    "        self.sheep_reproduction_chance = sheep_reproduction_chance\n",
    "        self.wolf_death_chance = wolf_death_chance\n",
    "\n",
    "        # Add a schedule for sheep and wolves seperately to prevent race-conditions\n",
    "        self.schedule_Sheep = RandomActivation(self)\n",
    "        self.schedule_Wolf = RandomActivation(self)\n",
    "\n",
    "        self.grid = MultiGrid(self.width, self.height, torus=True)\n",
    "        self.datacollector = DataCollector(\n",
    "             {\"Sheep\": lambda m: self.schedule_Sheep.get_agent_count(),\n",
    "              \"Wolves\": lambda m: self.schedule_Wolf.get_agent_count(),\n",
    "              \"Mean\": mean_wolf})\n",
    "\n",
    "        # Create sheep and wolves\n",
    "        self.init_population(Sheep, self.initial_sheep)\n",
    "        self.init_population(Wolf, self.initial_wolves)\n",
    "\n",
    "        # This is required for the datacollector to work\n",
    "        self.running = True\n",
    "        self.datacollector.collect(self)\n",
    "\n",
    "    def init_population(self, agent_type, n):\n",
    "        '''\n",
    "        Method that provides an easy way of making a bunch of agents at once.\n",
    "        '''\n",
    "        for i in range(n):\n",
    "            x = random.randrange(self.width)\n",
    "            y = random.randrange(self.height)\n",
    "\n",
    "            self.new_agent(agent_type, (x, y))\n",
    "\n",
    "    def new_agent(self, agent_type, pos):\n",
    "        '''\n",
    "        Method that creates a new agent, and adds it to the correct scheduler.\n",
    "        '''\n",
    "        agent = agent_type(self.next_id(), self, pos)\n",
    "\n",
    "        self.grid.place_agent(agent, pos)\n",
    "        getattr(self, f'schedule_{agent_type.__name__}').add(agent)\n",
    "\n",
    "    def remove_agent(self, agent):\n",
    "        '''\n",
    "        Method that removes an agent from the grid and the correct scheduler.\n",
    "        '''\n",
    "        self.grid.remove_agent(agent)\n",
    "        getattr(self, f'schedule_{type(agent).__name__}').remove(agent)\n",
    "\n",
    "    def step(self):\n",
    "        '''\n",
    "        Method that calls the step method for each of the sheep, and then for each of the wolves.\n",
    "        '''\n",
    "        self.schedule_Sheep.step()\n",
    "        self.schedule_Wolf.step()\n",
    "\n",
    "        # Save the statistics\n",
    "        self.datacollector.collect(self)\n",
    "\n",
    "    def run_model(self, step_count=200):\n",
    "        '''\n",
    "        Method that runs the model for a specific amount of steps.\n",
    "        '''\n",
    "        for i in range(step_count):\n",
    "            self.step()\n",
    "\n",
    "model = WolfSheep()\n",
    "model.run_model()\n",
    "\n",
    "data = model.datacollector.get_model_vars_dataframe()[\"Mean\"]\n",
    "data.plot()\n",
    "\n",
    "data = model.datacollector.get_model_vars_dataframe()[[\"Sheep\", \"Wolves\"]]\n",
    "data.plot()"
   ]
  },
  {
   "cell_type": "markdown",
   "metadata": {
    "deletable": false,
    "editable": false,
    "nbgrader": {
     "checksum": "5d279bd6965c706f71ae5889985f45ad",
     "grade": false,
     "grade_id": "cell-34a66061d1e417f1",
     "locked": true,
     "schema_version": 1,
     "solution": false
    }
   },
   "source": [
    "### Visualisation\n",
    "Mesa provides you with an interactive visualisation toolkit. This is done through a local server that uses JavaScript to draw  everything in a browser window. An advantage of this is that we can run models step by step, spotting patterns, behaviors, bugs, developing new intuitions, hypotheses or insights. It is also a very good way to explain a model to your roommates or grandparents.\n",
    "\n",
    "We have provided you with a seperate `server.py` that shows you how you could visualise this model, as the visualisation will not cooperate with notebooks. Feel free to take a look and change elements to get accustomed to how the visualisation module works. For more information, visit [this link](https://mesa.readthedocs.io/en/master/tutorials/adv_tutorial.html#adding-visualization).\n",
    "\n",
    "Run this model by issuing the following command in the command line:\n",
    "\n",
    "`> ipython server.py`\n",
    "\n",
    "NOTE: Keep in mind that the \"Frames Per Second\" setting does not take into account the time it takes to build a frame. This means that when your simulation takes more time to build a frame than it takes the visualisation to display it, and you press stop, the visualisation will continue untill it has displayed all the frames that it should have displayed in the first place. To prevent this from happening, do not set \"Frames Per Second\" too high."
   ]
  },
  {
   "cell_type": "markdown",
   "metadata": {
    "deletable": false,
    "editable": false,
    "nbgrader": {
     "checksum": "3846ebbfb249d0bab85bf4a2369e9ed7",
     "grade": false,
     "grade_id": "cell-51367e5799383810",
     "locked": true,
     "schema_version": 1,
     "solution": false
    }
   },
   "source": [
    "### Mesa best practices\n",
    "To ensure that our models are easily accessible and maintainable, Mesa provides us with some general principles. These principles can be found [here](https://mesa.readthedocs.io/en/master/best-practices.html), but the main take-away is that you should structure your files. The model class for example, should be located in `model.py` and generally, the agents should be located in `agent.py`.\n"
   ]
  }
 ],
 "metadata": {
  "kernelspec": {
   "display_name": "Python 3",
   "language": "python",
   "name": "python3"
  },
  "language_info": {
   "codemirror_mode": {
    "name": "ipython",
    "version": 3
   },
   "file_extension": ".py",
   "mimetype": "text/x-python",
   "name": "python",
   "nbconvert_exporter": "python",
   "pygments_lexer": "ipython3",
   "version": "3.7.1"
  }
 },
 "nbformat": 4,
 "nbformat_minor": 4
}
